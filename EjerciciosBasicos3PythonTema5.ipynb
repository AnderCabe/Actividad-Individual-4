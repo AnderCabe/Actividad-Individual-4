{
 "cells": [
  {
   "cell_type": "markdown",
   "id": "e0f55788",
   "metadata": {},
   "source": [
    "## Ejercicios de Funciones en Python\n",
    "\n",
    "Las funciones en Python son bloques de código reutilizables que realizan una acción específica. A continuación, encontrarás ejercicios para practicar lo que has aprendido sobre funciones.\n"
   ]
  },
  {
   "cell_type": "markdown",
   "id": "418f0584",
   "metadata": {},
   "source": [
    "### Ejercicio 1: Función Básica\n",
    "\n",
    "Define una función llamada `saludar` que imprima \"Hola, Mundo!\" cuando se llame.\n"
   ]
  },
  {
   "cell_type": "code",
   "execution_count": null,
   "id": "f865c5bd",
   "metadata": {},
   "outputs": [],
   "source": []
  },
  {
   "cell_type": "markdown",
   "id": "6894cd5f",
   "metadata": {},
   "source": [
    "### Ejercicio 2: Función con Parámetros\n",
    "\n",
    "Define una función `potencia` que tome dos parámetros, `base` y `exponente`, y que devuelva `base` elevado a la `exponente`.\n"
   ]
  },
  {
   "cell_type": "code",
   "execution_count": null,
   "id": "45a331a3",
   "metadata": {},
   "outputs": [],
   "source": [
    "\n"
   ]
  },
  {
   "cell_type": "markdown",
   "id": "6c0056ff",
   "metadata": {},
   "source": [
    "### Ejercicio 3: Función con Valor por Defecto\n",
    "\n",
    "Define una función `informacion_personal` que tome dos parámetros `nombre` y `edad` con valores por defecto `Anónimo` y `0`. La función debe imprimir un mensaje con el nombre y la edad.\n"
   ]
  },
  {
   "cell_type": "code",
   "execution_count": null,
   "id": "015aef43",
   "metadata": {},
   "outputs": [],
   "source": []
  },
  {
   "cell_type": "markdown",
   "id": "47d54731",
   "metadata": {},
   "source": [
    "### Ejercicio 4: Función que Devuelve Valores\n",
    "\n",
    "Define una función `dividir` que tome dos parámetros y devuelva el resultado de la división del primero entre el segundo. Además, maneja la posibilidad de división entre cero retornando `None`.\n"
   ]
  },
  {
   "cell_type": "code",
   "execution_count": null,
   "id": "94a55aff",
   "metadata": {},
   "outputs": [],
   "source": [
    "\n"
   ]
  },
  {
   "cell_type": "markdown",
   "id": "370c5023",
   "metadata": {},
   "source": [
    "### Ejercicio 5: Función con Parámetros Indeterminados\n",
    "\n",
    "Define una función `listar_argumentos` que tome una cantidad variable de argumentos y los imprima uno por uno.\n"
   ]
  },
  {
   "cell_type": "code",
   "execution_count": null,
   "id": "59dc6f40",
   "metadata": {},
   "outputs": [],
   "source": [
    "\n"
   ]
  }
 ],
 "metadata": {
  "kernelspec": {
   "display_name": "Python 3 (ipykernel)",
   "language": "python",
   "name": "python3"
  },
  "language_info": {
   "codemirror_mode": {
    "name": "ipython",
    "version": 3
   },
   "file_extension": ".py",
   "mimetype": "text/x-python",
   "name": "python",
   "nbconvert_exporter": "python",
   "pygments_lexer": "ipython3",
   "version": "3.11.5"
  }
 },
 "nbformat": 4,
 "nbformat_minor": 5
}
