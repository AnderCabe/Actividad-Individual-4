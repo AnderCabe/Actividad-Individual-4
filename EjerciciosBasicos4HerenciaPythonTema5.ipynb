{
 "cells": [
  {
   "cell_type": "code",
   "execution_count": 3,
   "id": "18a75440",
   "metadata": {},
   "outputs": [],
   "source": [
    "# Crearemos un texto que sirva como enunciado para los ejercicios de herencia en Python.\n",
    "\n",
    "# Definimos el enunciado para los ejercicios\n",
    "enunciado = \"\"\"\n",
    "# Ejercicios de Herencia en Python\n",
    "\n",
    "## Ejercicio 1: Clase Base Persona\n",
    "Define una clase base llamada `Persona` que tendrá los siguientes atributos:\n",
    "- Nombre\n",
    "- Fecha de nacimiento\n",
    "- Domicilio\n",
    "\n",
    "Además, deberá tener un método llamado `cambiar_domicilio` que permita actualizar el domicilio de la persona.\n",
    "\n",
    "## Ejercicio 2: Clase Alumno\n",
    "Crea una clase `Alumno` que herede de `Persona`. La clase `Alumno` debe incluir:\n",
    "- Los atributos heredados de `Persona`.\n",
    "- Un nuevo atributo llamado `asignatura_matriculada`.\n",
    "- Un nuevo atributo llamado `calificacion` inicializado en `None`.\n",
    "- Un método `calificar` que permita asignar una nota al atributo `calificacion`.\n",
    "\n",
    "## Ejercicio 3: Clase Profesor\n",
    "Crea una clase `Profesor` que también herede de `Persona`. La clase `Profesor` debe incluir:\n",
    "- Los atributos heredados de `Persona`.\n",
    "- Un nuevo atributo llamado `especialidad`.\n",
    "- Un nuevo atributo que sea una lista llamada `asignaturas_impartidas`.\n",
    "- Un método `anyadir_asignatura` que permita añadir elementos a la lista `asignaturas_impartidas`.\n",
    "\n",
    "## Ejercicio 4: Instancias y Pruebas\n",
    "Instancia un objeto de cada una de las clases `Alumno` y `Profesor` y realiza las siguientes acciones:\n",
    "- Cambia el domicilio del `Alumno`.\n",
    "- Asigna una calificación al `Alumno`.\n",
    "- Añade una asignatura a la lista de asignaturas que imparte el `Profesor`.\n",
    "\n",
    "Imprime los resultados para verificar que todo funciona correctamente.\n",
    "\"\"\""
   ]
  },
  {
   "cell_type": "code",
   "execution_count": null,
   "id": "c2c6ffec",
   "metadata": {},
   "outputs": [],
   "source": []
  }
 ],
 "metadata": {
  "kernelspec": {
   "display_name": "Python 3 (ipykernel)",
   "language": "python",
   "name": "python3"
  },
  "language_info": {
   "codemirror_mode": {
    "name": "ipython",
    "version": 3
   },
   "file_extension": ".py",
   "mimetype": "text/x-python",
   "name": "python",
   "nbconvert_exporter": "python",
   "pygments_lexer": "ipython3",
   "version": "3.11.5"
  }
 },
 "nbformat": 4,
 "nbformat_minor": 5
}
