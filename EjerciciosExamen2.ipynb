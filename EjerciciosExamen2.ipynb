{
 "cells": [
  {
   "cell_type": "code",
   "execution_count": null,
   "id": "b658f869",
   "metadata": {},
   "outputs": [],
   "source": [
    "#Ejercicio 16: Contar Adornos Navideños\n",
    "\n",
    "#Descripción: Dada una lista de adornos navideños, cuenta cuántos de cada tipo hay."
   ]
  },
  {
   "cell_type": "code",
   "execution_count": null,
   "id": "25e9b892",
   "metadata": {},
   "outputs": [],
   "source": []
  },
  {
   "cell_type": "code",
   "execution_count": null,
   "id": "59b82995",
   "metadata": {},
   "outputs": [],
   "source": [
    "#Ejercicio 17: Filtrar Regalos por Precio\n",
    "\n",
    "#Descripción: Dada una lista de precios de regalos, crea una lista con los regalos que cuesten menos de 20 euros."
   ]
  },
  {
   "cell_type": "code",
   "execution_count": null,
   "id": "fa44eecd",
   "metadata": {},
   "outputs": [],
   "source": []
  },
  {
   "cell_type": "code",
   "execution_count": null,
   "id": "f6d9d226",
   "metadata": {},
   "outputs": [],
   "source": [
    "#Ejercicio 18: Encontrar la Palabra 'Navidad'\n",
    "\n",
    "#Descripción: Dada una cadena de texto, verifica si contiene la palabra 'Navidad'."
   ]
  },
  {
   "cell_type": "code",
   "execution_count": null,
   "id": "b514a645",
   "metadata": {},
   "outputs": [],
   "source": []
  },
  {
   "cell_type": "code",
   "execution_count": null,
   "id": "e4191e00",
   "metadata": {},
   "outputs": [],
   "source": [
    "#Ejercicio 19: Multiplicar Cantidad de Regalos\n",
    "\n",
    "#Descripción: Dada una lista con la cantidad de regalos para cada niño, multiplica cada cantidad por 2."
   ]
  },
  {
   "cell_type": "code",
   "execution_count": null,
   "id": "72ad4681",
   "metadata": {},
   "outputs": [],
   "source": []
  },
  {
   "cell_type": "code",
   "execution_count": null,
   "id": "b6f0256c",
   "metadata": {},
   "outputs": [],
   "source": [
    "#Ejercicio 20: Eliminar 'Carbón' de la Lista de Regalos\n",
    "\n",
    "#Descripción: Dada una lista de regalos, elimina todas las ocurrencias de 'carbón'."
   ]
  },
  {
   "cell_type": "code",
   "execution_count": null,
   "id": "ab05e7f7",
   "metadata": {},
   "outputs": [],
   "source": []
  },
  {
   "cell_type": "code",
   "execution_count": null,
   "id": "5e3480a8",
   "metadata": {},
   "outputs": [],
   "source": [
    "#Ejercicio 21: Lista de Deseos Navideños\n",
    "\n",
    "#Descripción: Crea una función que reciba una lista de deseos y retorne solo aquellos que comiencen con la letra 'L'."
   ]
  },
  {
   "cell_type": "code",
   "execution_count": null,
   "id": "6bb12677",
   "metadata": {},
   "outputs": [],
   "source": []
  },
  {
   "cell_type": "code",
   "execution_count": null,
   "id": "a531464b",
   "metadata": {},
   "outputs": [],
   "source": [
    "#Ejercicio 22: Cálculo de Gastos en Cena Navideña\n",
    "\n",
    "#Descripción: Escribe un programa que sume el costo total de los platos en una cena navideña."
   ]
  },
  {
   "cell_type": "code",
   "execution_count": null,
   "id": "fd218fe3",
   "metadata": {},
   "outputs": [],
   "source": []
  },
  {
   "cell_type": "code",
   "execution_count": null,
   "id": "0f9b98ec",
   "metadata": {},
   "outputs": [],
   "source": [
    "#Ejercicio 23: Ordenar Regalos por Tamaño\n",
    "\n",
    "#Descripción: Dada una lista de regalos con sus tamaños, ordena la lista de menor a mayor tamaño."
   ]
  },
  {
   "cell_type": "code",
   "execution_count": null,
   "id": "a3707fb0",
   "metadata": {},
   "outputs": [],
   "source": []
  },
  {
   "cell_type": "code",
   "execution_count": null,
   "id": "4a043ea1",
   "metadata": {},
   "outputs": [],
   "source": [
    "#Ejercicio 24: Contar Canciones de Navidad en una Lista\n",
    "\n",
    "#Descripción: Cuenta cuántas veces aparece la palabra 'Navidad' en una lista de títulos de canciones."
   ]
  },
  {
   "cell_type": "code",
   "execution_count": null,
   "id": "259bbfe3",
   "metadata": {},
   "outputs": [],
   "source": []
  },
  {
   "cell_type": "code",
   "execution_count": null,
   "id": "f7eaf458",
   "metadata": {},
   "outputs": [],
   "source": [
    "#Ejercicio 25: Convertir una Cadena en una Lista de Regalos\n",
    "\n",
    "#Descripción: Dada una cadena de texto con nombres de regalos separados por comas, conviértela en una lista de regalos."
   ]
  }
 ],
 "metadata": {
  "kernelspec": {
   "display_name": "Python 3",
   "language": "python",
   "name": "python3"
  },
  "language_info": {
   "codemirror_mode": {
    "name": "ipython",
    "version": 3
   },
   "file_extension": ".py",
   "mimetype": "text/x-python",
   "name": "python",
   "nbconvert_exporter": "python",
   "pygments_lexer": "ipython3",
   "version": "3.8.8"
  }
 },
 "nbformat": 4,
 "nbformat_minor": 5
}
