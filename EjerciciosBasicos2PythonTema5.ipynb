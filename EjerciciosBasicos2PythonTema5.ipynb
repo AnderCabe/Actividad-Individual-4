{
 "cells": [
  {
   "cell_type": "markdown",
   "id": "4bb5e4c2",
   "metadata": {},
   "source": [
    "## Ejercicio 1: Acceso a Elementos de Lista\n",
    "Dada una lista de nombres de dominios web, accede e imprime el segundo elemento de la lista."
   ]
  },
  {
   "cell_type": "code",
   "execution_count": null,
   "id": "cb441964",
   "metadata": {},
   "outputs": [],
   "source": []
  },
  {
   "cell_type": "markdown",
   "id": "beb2bd67",
   "metadata": {},
   "source": [
    "## Ejercicio 2: Verificar Longitud de la Contraseña\n",
    "Verifica si la longitud de una contraseña dada es al menos de 8 caracteres."
   ]
  },
  {
   "cell_type": "code",
   "execution_count": null,
   "id": "c6cf7ca8",
   "metadata": {},
   "outputs": [],
   "source": []
  },
  {
   "cell_type": "markdown",
   "id": "e8d31d7a",
   "metadata": {},
   "source": [
    "## Ejercicio 3: Encontrar Elementos en una Lista\n",
    "Dada una lista de usuarios, encuentra aquellos que contengan 'admin' en su nombre."
   ]
  },
  {
   "cell_type": "code",
   "execution_count": null,
   "id": "95714c16",
   "metadata": {},
   "outputs": [],
   "source": []
  },
  {
   "cell_type": "markdown",
   "id": "eb5c90b8",
   "metadata": {},
   "source": [
    "## Ejercicio 4: Uso de Bucles y Condiciones\n",
    "Usa un bucle para imprimir números del 1 al 5, pero detente cuando llegues al número 3 utilizando una condición."
   ]
  },
  {
   "cell_type": "code",
   "execution_count": null,
   "id": "214fef89",
   "metadata": {},
   "outputs": [],
   "source": []
  },
  {
   "cell_type": "markdown",
   "id": "68f9d012",
   "metadata": {},
   "source": [
    "## Ejercicio 5: Trabajar con Diccionarios\n",
    "Dado un diccionario de términos de ciberseguridad, imprime la definición de 'Malware'."
   ]
  },
  {
   "cell_type": "code",
   "execution_count": null,
   "id": "aa7581cc",
   "metadata": {},
   "outputs": [],
   "source": []
  }
 ],
 "metadata": {
  "kernelspec": {
   "display_name": "Python 3 (ipykernel)",
   "language": "python",
   "name": "python3"
  },
  "language_info": {
   "codemirror_mode": {
    "name": "ipython",
    "version": 3
   },
   "file_extension": ".py",
   "mimetype": "text/x-python",
   "name": "python",
   "nbconvert_exporter": "python",
   "pygments_lexer": "ipython3",
   "version": "3.11.5"
  }
 },
 "nbformat": 4,
 "nbformat_minor": 5
}
